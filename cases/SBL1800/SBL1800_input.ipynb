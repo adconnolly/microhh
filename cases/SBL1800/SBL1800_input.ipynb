{
 "cells": [
  {
   "cell_type": "code",
   "execution_count": 1,
   "id": "544c91cc-2e15-4e5f-bd9a-6e0419eb6185",
   "metadata": {},
   "outputs": [],
   "source": [
    "#Re1800:\n",
    "import numpy as np\n",
    "#from pylab import *\n",
    "from scipy import special\n",
    "import netCDF4 as nc"
   ]
  },
  {
   "cell_type": "code",
   "execution_count": 2,
   "id": "63b6eacb-15f9-4e09-92c5-94a46a3419c7",
   "metadata": {},
   "outputs": [],
   "source": [
    "coarsePath= '/glade/work/adac/microHH/coarseData/'\n",
    "coarse = nc.Dataset(coarsePath+'coarse4x2052_Re1800.nc', 'r')\n",
    "uAll=np.array(coarse.variables['u'])\n",
    "vAll=np.array(coarse.variables['v'])\n",
    "bAll=np.array(coarse.variables['b'])"
   ]
  },
  {
   "cell_type": "code",
   "execution_count": 3,
   "id": "fea8be2b-67d5-4b34-a9cb-a84f9d765ff7",
   "metadata": {},
   "outputs": [],
   "source": [
    "def shift_down(u,noslip=False,nzbuffer=3):\n",
    "    utemp = u\n",
    "    u[1:] = utemp[:-1]\n",
    "    if noslip:\n",
    "        u[0]=0.5*u[1] # interp with no slip\n",
    "    else:\n",
    "        u[0]=2*u[1]-u[2] # extrap else, e.g. for b\n",
    "    for iz in range(-1,-nzbuffer,-1):\n",
    "        u[iz]=u[-nzbuffer]\n",
    "    \n",
    "    return u"
   ]
  },
  {
   "cell_type": "code",
   "execution_count": 4,
   "id": "babd52c1-585a-4a8d-af83-c17e28c32993",
   "metadata": {},
   "outputs": [],
   "source": [
    "itimeInit = 0\n",
    "noslip = False\n",
    "u = shift_down(np.mean(uAll[:,:,:,itimeInit],axis=(1,2)),noslip)\n",
    "v = shift_down(np.mean(vAll[:,:,:,itimeInit],axis=(1,2)),noslip)\n",
    "b = shift_down(np.mean(bAll[:,:,:,itimeInit],axis=(1,2)),noslip)"
   ]
  },
  {
   "cell_type": "code",
   "execution_count": 5,
   "id": "997f2661-4379-495c-af5c-8810a873877a",
   "metadata": {},
   "outputs": [],
   "source": [
    "# set the height\n",
    "#kmax  = 3328\n",
    "kmax = 64\n",
    "zsize = 18.074844397670482\n",
    "dz = zsize / kmax"
   ]
  },
  {
   "cell_type": "code",
   "execution_count": 6,
   "id": "50c13cfe-29fe-40c1-b3ee-9b1b4015a138",
   "metadata": {},
   "outputs": [],
   "source": [
    "z = np.linspace(0.5*dz, zsize-0.5*dz, kmax)\n",
    "\n",
    "ug = np.zeros(kmax)\n",
    "vg = np.zeros(kmax)\n",
    "ug[:] = 0.049295030175465\n",
    "vg[:] = 0.\n",
    "\n",
    "# a_star = 5/8*zsize\n",
    "# theta_ref = 300\n",
    "# g         = 9.8\n",
    "# dtheta_dz_z0 =0.028941114424258\n",
    "# theta_z = np.zeros(kmax)\n",
    "# theta_0 = 299.8649820802043\n",
    "\n",
    "# visc = 0.000015\n",
    "# fc   = 0.0001\n",
    "# gamma = (fc / (2.*visc))**.5\n",
    "\n",
    "# obtain theta_z and b for microhh\n",
    "# for k in range(kmax):\n",
    "#     theta_z[k]=a_star/2*(np.power(-np.pi/np.log(0.01),0.5))*dtheta_dz_z0*special.erf(z[k]/a_star/np.power(-np.log(0.01),-0.5))+theta_0\n",
    "#     b[k]=g*(theta_z[k]-theta_ref)/theta_ref\n",
    "\n",
    "# u[:] = ug[:]\n",
    "# v[:] = vg[:]\n",
    "# analytical solution as the starting profile to reduce run time\n",
    "#for k in range(kmax):\n",
    "#  u[k] = ug[k]*(1. - exp(-gamma*z[k]) * cos(gamma*z[k]))\n",
    "#  v[k] = ug[k]*(     exp(-gamma*z[k]) * sin(gamma*z[k]))\n",
    "\n",
    "# write the data to a file\n",
    "#proffile = open('ekman.prof','w')\n",
    "#proffile.write('{0:^20s} {1:^20s} {2:^20s} {3:^20s} {4:^20s} {5:^20s} {6:^20s}\\n'.format('z','u','v','ug','vg','s','b'))\n",
    "#for k in range(kmax):\n",
    "#  proffile.write('{0:1.14E} {1:1.14E} {2:1.14E} {3:1.14E} {4:1.14E} {5:1.14E} {6:1.14E}\\n'.format(z[k], u[k], v[k], ug[k], vg[k], s[k],b[k]))\n",
    "#proffile.close()"
   ]
  },
  {
   "cell_type": "code",
   "execution_count": 7,
   "id": "fd7807b6-5dbd-4fae-980e-886bd4bcd1f0",
   "metadata": {},
   "outputs": [],
   "source": [
    "float_type = 'f8'\n",
    "\n",
    "nc_file = nc.Dataset(\"SBL1800_input.nc\", mode=\"w\", datamodel=\"NETCDF4\", clobber=True)\n",
    "\n",
    "nc_file.createDimension(\"z\", kmax)\n",
    "nc_z  = nc_file.createVariable(\"z\" , float_type, (\"z\"))\n",
    "\n",
    "nc_group_init = nc_file.createGroup(\"init\");\n",
    "nc_u = nc_group_init.createVariable(\"u\", float_type, (\"z\"))\n",
    "nc_v = nc_group_init.createVariable(\"v\", float_type, (\"z\"))\n",
    "nc_u_geo = nc_group_init.createVariable(\"u_geo\", float_type, (\"z\"))\n",
    "nc_v_geo = nc_group_init.createVariable(\"v_geo\", float_type, (\"z\"))\n",
    "nc_b = nc_group_init.createVariable(\"b\", float_type, (\"z\"))\n",
    "\n",
    "nc_z[:] = z[:]\n",
    "nc_u[:] = u[:]\n",
    "nc_v[:] = v[:]\n",
    "nc_u_geo[:] = ug[:]\n",
    "nc_v_geo[:] = vg[:]\n",
    "nc_b[:] = b[:]\n",
    "\n",
    "nc_file.close()"
   ]
  },
  {
   "cell_type": "code",
   "execution_count": 8,
   "id": "ae3f7416-ba96-449a-9687-58ebc8115101",
   "metadata": {},
   "outputs": [
    {
     "data": {
      "text/plain": [
       "[<matplotlib.lines.Line2D at 0x7efe9cb88ee0>]"
      ]
     },
     "execution_count": 8,
     "metadata": {},
     "output_type": "execute_result"
    },
    {
     "data": {
      "image/png": "[encoded data removed]",
      "text/plain": [
       "<Figure size 640x480 with 1 Axes>"
      ]
     },
     "metadata": {},
     "output_type": "display_data"
    }
   ],
   "source": [
    "import matplotlib.pyplot as plt\n",
    "plt.plot(u,z,'.-')\n",
    "plt.plot(v,z,'.-')\n",
    "plt.plot(10*b,z,'.-')"
   ]
  },
  {
   "cell_type": "code",
   "execution_count": null,
   "id": "5716e395-2c81-4e7d-9d1d-c7203d46c8a4",
   "metadata": {},
   "outputs": [],
   "source": []
  }
 ],
 "metadata": {
  "kernelspec": {
   "display_name": "NPL 2023b",
   "language": "python",
   "name": "npl-2023b"
  },
  "language_info": {
   "codemirror_mode": {
    "name": "ipython",
    "version": 3
   },
   "file_extension": ".py",
   "mimetype": "text/x-python",
   "name": "python",
   "nbconvert_exporter": "python",
   "pygments_lexer": "ipython3",
   "version": "3.10.12"
  }
 },
 "nbformat": 4,
 "nbformat_minor": 5
}
